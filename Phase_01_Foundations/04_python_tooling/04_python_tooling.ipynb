{
 "cells": [
  {
   "cell_type": "markdown",
   "id": "e82a98ce",
   "metadata": {},
   "source": [
    "# 04: Python & Tooling for Machine Learning\n",
    "In this session, we’ll build fluency with the essential tools you’ll use for every ML project: NumPy, pandas, matplotlib, and scikit-learn."
   ]
  },
  {
   "cell_type": "markdown",
   "id": "45785e09",
   "metadata": {},
   "source": [
    "## 🎯 Objectives\n",
    "- Manipulate data using pandas and NumPy\n",
    "- Visualize trends and distributions using matplotlib and seaborn\n",
    "- Load, explore, and summarize datasets\n",
    "- Perform simple transformations to prepare data for modeling"
   ]
  },
  {
   "cell_type": "markdown",
   "id": "ae3ab6ef",
   "metadata": {},
   "source": [
    "## 📊 Working with DataFrames"
   ]
  },
  {
   "cell_type": "code",
   "execution_count": null,
   "id": "cca341ed",
   "metadata": {},
   "outputs": [],
   "source": [
    "import pandas as pd\n",
    "\n",
    "# Load sample data\n",
    "df = pd.read_csv('https://raw.githubusercontent.com/mwaskom/seaborn-data/master/tips.csv')\n",
    "df.head()"
   ]
  },
  {
   "cell_type": "markdown",
   "id": "a93cb8c1",
   "metadata": {},
   "source": [
    "## 📈 Summary Statistics"
   ]
  },
  {
   "cell_type": "code",
   "execution_count": null,
   "id": "92e76f6a",
   "metadata": {},
   "outputs": [],
   "source": [
    "df.describe()"
   ]
  },
  {
   "cell_type": "markdown",
   "id": "14b2c1b3",
   "metadata": {},
   "source": [
    "## 🧹 Data Cleaning"
   ]
  },
  {
   "cell_type": "code",
   "execution_count": null,
   "id": "90b6b50a",
   "metadata": {},
   "outputs": [],
   "source": [
    "# Remove missing values (if any)\n",
    "df_clean = df.dropna()\n",
    "# Create a new column\n",
    "df_clean['tip_percent'] = 100 * df_clean['tip'] / df_clean['total_bill']\n",
    "df_clean.head()"
   ]
  },
  {
   "cell_type": "markdown",
   "id": "97f5b065",
   "metadata": {},
   "source": [
    "## 🎨 Visualization"
   ]
  },
  {
   "cell_type": "code",
   "execution_count": null,
   "id": "692abb07",
   "metadata": {},
   "outputs": [],
   "source": [
    "import matplotlib.pyplot as plt\n",
    "import seaborn as sns\n",
    "\n",
    "sns.scatterplot(data=df_clean, x='total_bill', y='tip', hue='sex')\n",
    "plt.title(\"Tips vs. Total Bill\")\n",
    "plt.grid(True)\n",
    "plt.show()"
   ]
  },
  {
   "cell_type": "markdown",
   "id": "04b2ecaa",
   "metadata": {},
   "source": [
    "## 🔍 Simple Model with Scikit-learn"
   ]
  },
  {
   "cell_type": "code",
   "execution_count": null,
   "id": "5125ed2c",
   "metadata": {},
   "outputs": [],
   "source": [
    "from sklearn.linear_model import LinearRegression\n",
    "\n",
    "X = df_clean[['total_bill']]\n",
    "y = df_clean['tip']\n",
    "\n",
    "model = LinearRegression().fit(X, y)\n",
    "print(\"Slope:\", model.coef_[0])\n",
    "print(\"Intercept:\", model.intercept_)"
   ]
  },
  {
   "cell_type": "markdown",
   "id": "2ee086da",
   "metadata": {},
   "source": [
    "## ✅ Summary Quiz\n",
    "1. What does `df.describe()` show you?\n",
    "2. Why is feature engineering (like tip %) helpful?\n",
    "3. What does the `.fit()` method do in sklearn?"
   ]
  }
 ],
 "metadata": {},
 "nbformat": 4,
 "nbformat_minor": 5
}
