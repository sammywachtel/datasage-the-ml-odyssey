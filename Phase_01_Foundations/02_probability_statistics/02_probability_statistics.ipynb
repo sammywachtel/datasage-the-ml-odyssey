{
 "cells": [
  {
   "cell_type": "markdown",
   "id": "2b9b7247",
   "metadata": {},
   "source": [
    "# 02: Probability & Statistics\n",
    "Welcome to the world of uncertainty! Let’s build the probabilistic foundation used by ML models to reason under noise and variation."
   ]
  },
  {
   "cell_type": "markdown",
   "id": "8006b1dc",
   "metadata": {},
   "source": [
    "## 🎯 Objectives\n",
    "- Understand basic probability and conditional probability\n",
    "- Simulate and visualize common distributions\n",
    "- Explore Bayes’ theorem with real-world intuition\n",
    "- Build skills in descriptive stats and random variable simulation"
   ]
  },
  {
   "cell_type": "markdown",
   "id": "583185bf",
   "metadata": {},
   "source": [
    "## 🎲 Basic Probability Concepts"
   ]
  },
  {
   "cell_type": "code",
   "execution_count": null,
   "id": "ace2695c",
   "metadata": {},
   "outputs": [],
   "source": [
    "import numpy as np\n",
    "\n",
    "# Simulate a fair coin flip\n",
    "np.random.seed(0)\n",
    "flips = np.random.choice(['H', 'T'], size=10)\n",
    "print(\"First 10 coin flips:\", flips)"
   ]
  },
  {
   "cell_type": "markdown",
   "id": "e7e639a6",
   "metadata": {},
   "source": [
    "## 📊 Visualizing Distributions"
   ]
  },
  {
   "cell_type": "code",
   "execution_count": null,
   "id": "629b2248",
   "metadata": {},
   "outputs": [],
   "source": [
    "import matplotlib.pyplot as plt\n",
    "import seaborn as sns\n",
    "from scipy.stats import norm, binom\n",
    "\n",
    "# Normal distribution\n",
    "x = np.linspace(-4, 4, 100)\n",
    "plt.plot(x, norm.pdf(x))\n",
    "plt.title(\"Normal Distribution PDF\")\n",
    "plt.grid(True)\n",
    "plt.show()"
   ]
  },
  {
   "cell_type": "markdown",
   "id": "56888c3b",
   "metadata": {},
   "source": [
    "## 📐 Bayes’ Theorem"
   ]
  },
  {
   "cell_type": "code",
   "execution_count": null,
   "id": "6960538b",
   "metadata": {},
   "outputs": [],
   "source": [
    "# Bayes’ Theorem: Example\n",
    "# P(Disease | Positive Test) = ?\n",
    "\n",
    "# Prior\n",
    "P_disease = 0.01\n",
    "P_no_disease = 0.99\n",
    "\n",
    "# Likelihood\n",
    "P_pos_given_disease = 0.95\n",
    "P_pos_given_no_disease = 0.05\n",
    "\n",
    "# Total probability of positive test\n",
    "P_pos = P_disease * P_pos_given_disease + P_no_disease * P_pos_given_no_disease\n",
    "\n",
    "# Posterior\n",
    "P_disease_given_pos = (P_disease * P_pos_given_disease) / P_pos\n",
    "print(f\"P(Disease | Positive Test) = {P_disease_given_pos:.3f}\")"
   ]
  },
  {
   "cell_type": "markdown",
   "id": "cde8935f",
   "metadata": {},
   "source": [
    "## ✅ Summary Quiz\n",
    "1. What does the area under a probability density function represent?\n",
    "2. How is a Binomial distribution different from a Normal distribution?\n",
    "3. Why does Bayes’ Theorem require a denominator?"
   ]
  }
 ],
 "metadata": {},
 "nbformat": 4,
 "nbformat_minor": 5
}
