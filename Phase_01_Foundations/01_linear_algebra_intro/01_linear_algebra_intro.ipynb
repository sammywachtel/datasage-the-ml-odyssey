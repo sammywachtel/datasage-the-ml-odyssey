{
 "cells": [
  {
   "cell_type": "markdown",
   "id": "6794ff85",
   "metadata": {},
   "source": [
    "# 01: Linear Algebra Intro\n",
    "Welcome to your first deep dive! Today we’ll build intuition and hands-on experience with vectors, matrices, and their operations—the foundation of almost every ML algorithm."
   ]
  },
  {
   "cell_type": "markdown",
   "id": "0f8d3f87",
   "metadata": {},
   "source": [
    "## 🎯 Objectives\n",
    "- Understand what vectors and matrices are\n",
    "- Learn how to compute dot products and matrix multiplication\n",
    "- Visualize geometric interpretations\n",
    "- Explore how these concepts relate to ML models"
   ]
  },
  {
   "cell_type": "markdown",
   "id": "c546978e",
   "metadata": {},
   "source": [
    "## 📌 Vectors and Basic Operations\n",
    "Let’s start by defining vectors and doing some operations."
   ]
  },
  {
   "cell_type": "code",
   "execution_count": null,
   "id": "63b1a98b",
   "metadata": {},
   "outputs": [],
   "source": [
    "import numpy as np\n",
    "\n",
    "# Define two vectors\n",
    "v1 = np.array([1, 2])\n",
    "v2 = np.array([3, 4])\n",
    "\n",
    "# Vector addition and scalar multiplication\n",
    "print(\"v1 + v2 =\", v1 + v2)\n",
    "print(\"2 * v1 =\", 2 * v1)"
   ]
  },
  {
   "cell_type": "markdown",
   "id": "1e43b47c",
   "metadata": {},
   "source": [
    "## 🔢 Dot Product\n",
    "The dot product tells us how aligned two vectors are."
   ]
  },
  {
   "cell_type": "code",
   "execution_count": null,
   "id": "f5b83ff6",
   "metadata": {},
   "outputs": [],
   "source": [
    "# Compute dot product\n",
    "dot = np.dot(v1, v2)\n",
    "print(\"Dot product of v1 and v2:\", dot)"
   ]
  },
  {
   "cell_type": "markdown",
   "id": "e037001c",
   "metadata": {},
   "source": [
    "**Quiz:**\n",
    "What is the geometric meaning of a dot product?\n",
    "- A. The angle between vectors\n",
    "- B. The projection of one vector onto another\n",
    "- C. A measure of similarity\n",
    "- D. All of the above"
   ]
  },
  {
   "cell_type": "markdown",
   "id": "ec5be2f7",
   "metadata": {},
   "source": [
    "## 🔄 Matrix Multiplication"
   ]
  },
  {
   "cell_type": "code",
   "execution_count": null,
   "id": "444a10dd",
   "metadata": {},
   "outputs": [],
   "source": [
    "A = np.array([[1, 2], [3, 4]])\n",
    "B = np.array([[5, 6], [7, 8]])\n",
    "\n",
    "# Multiply matrices\n",
    "C = np.dot(A, B)\n",
    "print(\"A @ B =\\n\", C)"
   ]
  },
  {
   "cell_type": "markdown",
   "id": "0f384724",
   "metadata": {},
   "source": [
    "## 🧠 Visualizing Transformations"
   ]
  },
  {
   "cell_type": "code",
   "execution_count": null,
   "id": "8e0e747c",
   "metadata": {},
   "outputs": [],
   "source": [
    "import matplotlib.pyplot as plt\n",
    "\n",
    "def plot_transform(A, title=\"Transformation\"):\n",
    "    grid = np.array([[x, y] for x in range(-2, 3) for y in range(-2, 3)])\n",
    "    transformed = grid @ A.T\n",
    "\n",
    "    plt.figure(figsize=(6,6))\n",
    "    plt.quiver(grid[:, 0], grid[:, 1], transformed[:, 0] - grid[:, 0], transformed[:, 1] - grid[:, 1], angles='xy', scale_units='xy', scale=1, color='r')\n",
    "    plt.scatter(grid[:, 0], grid[:, 1], color='blue')\n",
    "    plt.title(title)\n",
    "    plt.grid(True)\n",
    "    plt.axhline(0, color='gray', lw=1)\n",
    "    plt.axvline(0, color='gray', lw=1)\n",
    "    plt.gca().set_aspect('equal')\n",
    "    plt.show()\n",
    "\n",
    "plot_transform(np.array([[2, 0], [0, 1]]), title=\"Horizontal Stretch\")"
   ]
  },
  {
   "cell_type": "markdown",
   "id": "be02f70c",
   "metadata": {},
   "source": [
    "## ✅ Summary Quiz\n",
    "1. What does matrix multiplication represent geometrically?\n",
    "2. What happens when you dot a vector with itself?\n",
    "3. Which operations preserve direction?"
   ]
  }
 ],
 "metadata": {},
 "nbformat": 4,
 "nbformat_minor": 5
}
