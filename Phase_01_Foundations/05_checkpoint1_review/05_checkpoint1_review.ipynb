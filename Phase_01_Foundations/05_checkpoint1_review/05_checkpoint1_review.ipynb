{
 "cells": [
  {
   "cell_type": "markdown",
   "id": "09eaa8a9",
   "metadata": {},
   "source": [
    "# 05: Checkpoint 1 Review\n",
    "You’ve completed the foundational phase of your ML refresher! Let’s review, reinforce, and reconnect key ideas before moving on."
   ]
  },
  {
   "cell_type": "markdown",
   "id": "140b1cf1",
   "metadata": {},
   "source": [
    "## 🎮 Interactive Review\n",
    "Use the cells below to test your understanding. Try to answer *before* you run the cell."
   ]
  },
  {
   "cell_type": "markdown",
   "id": "22dd42d3",
   "metadata": {},
   "source": [
    "**Q1.** What does the dot product tell you about two vectors?\n",
    "- A. Their difference\n",
    "- B. Their alignment\n",
    "- C. Their angle\n",
    "- D. Whether they’re the same"
   ]
  },
  {
   "cell_type": "code",
   "execution_count": null,
   "id": "510906d5",
   "metadata": {},
   "outputs": [],
   "source": [
    "print('✅ Answer: B — It measures alignment (via cosine of angle).')"
   ]
  },
  {
   "cell_type": "markdown",
   "id": "da57f80a",
   "metadata": {},
   "source": [
    "**Q2.** What’s the key property of a probability density function?"
   ]
  },
  {
   "cell_type": "code",
   "execution_count": null,
   "id": "1278aa98",
   "metadata": {},
   "outputs": [],
   "source": [
    "print('✅ Answer: The area under the curve equals 1.')"
   ]
  },
  {
   "cell_type": "markdown",
   "id": "bc82e518",
   "metadata": {},
   "source": [
    "**Q3.** What does the gradient point toward?"
   ]
  },
  {
   "cell_type": "code",
   "execution_count": null,
   "id": "a0d9f9a1",
   "metadata": {},
   "outputs": [],
   "source": [
    "print('✅ Answer: The direction of steepest increase.')"
   ]
  },
  {
   "cell_type": "markdown",
   "id": "927bb2fa",
   "metadata": {},
   "source": [
    "**Q4.** What does `df.describe()` return in pandas?"
   ]
  },
  {
   "cell_type": "code",
   "execution_count": null,
   "id": "b71a6f8b",
   "metadata": {},
   "outputs": [],
   "source": [
    "print('✅ Answer: Summary statistics for each numeric column.')"
   ]
  },
  {
   "cell_type": "markdown",
   "id": "be9c9890",
   "metadata": {},
   "source": [
    "## 🧭 Visual Concept Map\n",
    "Try sketching how these ideas are connected: vectors → dot product → matrix operations → gradient descent → loss functions → model fitting."
   ]
  },
  {
   "cell_type": "markdown",
   "id": "4a4ee485",
   "metadata": {},
   "source": [
    "## 🧠 Reflection\n",
    "Write a short answer:\n",
    "- What concept came most naturally to you?\n",
    "- What still feels confusing?\n",
    "- Where have you seen these ideas outside of ML?"
   ]
  },
  {
   "cell_type": "markdown",
   "id": "0f512230",
   "metadata": {},
   "source": [
    "## 🧠 Interview Memory Test\n",
    "These questions will test your memory of concepts, math, and Python syntax that are often asked in interviews. Try to write the answers yourself before running the solution cell."
   ]
  },
  {
   "cell_type": "markdown",
   "id": "90edad6b",
   "metadata": {},
   "source": [
    "**Q1.** Write a function in NumPy to compute the dot product between two vectors `a` and `b`."
   ]
  },
  {
   "cell_type": "code",
   "execution_count": null,
   "id": "f0a57fb2",
   "metadata": {},
   "outputs": [],
   "source": [
    "import numpy as np\n",
    "\n",
    "def dot_product(a, b):\n",
    "    return np.dot(a, b)\n",
    "\n",
    "# Example test\n",
    "a = np.array([1, 2])\n",
    "b = np.array([3, 4])\n",
    "dot_product(a, b)"
   ]
  },
  {
   "cell_type": "markdown",
   "id": "aac34e72",
   "metadata": {},
   "source": [
    "**Q2.** Write out the mathematical formula for Bayes’ Theorem."
   ]
  },
  {
   "cell_type": "code",
   "execution_count": null,
   "id": "16da517e",
   "metadata": {},
   "outputs": [],
   "source": [
    "# Bayes' Theorem\n",
    "# P(A|B) = (P(B|A) * P(A)) / P(B)\n"
   ]
  },
  {
   "cell_type": "markdown",
   "id": "7ec748cb",
   "metadata": {},
   "source": [
    "**Q3.** Given `f(g(x)) = (2x + 1)^2`, use the chain rule to compute the derivative `df/dx`."
   ]
  },
  {
   "cell_type": "code",
   "execution_count": null,
   "id": "ee791e3b",
   "metadata": {},
   "outputs": [],
   "source": [
    "# Let g(x) = 2x + 1\n",
    "# Then f(g(x)) = g(x)^2 = (2x + 1)^2\n",
    "# df/dx = 2 * (2x + 1) * 2 = 4 * (2x + 1)\n"
   ]
  },
  {
   "cell_type": "markdown",
   "id": "92ea2a8c",
   "metadata": {},
   "source": [
    "**Q4.** What does `df.describe()` return in pandas? Try it on the `tips` dataset."
   ]
  },
  {
   "cell_type": "code",
   "execution_count": null,
   "id": "e6b117b3",
   "metadata": {},
   "outputs": [],
   "source": [
    "import pandas as pd\n",
    "df = pd.read_csv('https://raw.githubusercontent.com/mwaskom/seaborn-data/master/tips.csv')\n",
    "df.describe()"
   ]
  },
  {
   "cell_type": "markdown",
   "id": "f79a6a1e",
   "metadata": {},
   "source": [
    "**Q5.** Describe the key steps in gradient descent."
   ]
  },
  {
   "cell_type": "code",
   "execution_count": null,
   "id": "0a663748",
   "metadata": {},
   "outputs": [],
   "source": [
    "# 1. Initialize parameters (e.g., weights)\n",
    "# 2. Compute the gradient of the loss function\n",
    "# 3. Update the parameters in the opposite direction of the gradient\n",
    "# 4. Repeat until convergence\n"
   ]
  }
 ],
 "metadata": {},
 "nbformat": 4,
 "nbformat_minor": 5
}
